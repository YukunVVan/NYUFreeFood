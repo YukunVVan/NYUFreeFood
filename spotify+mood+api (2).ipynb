{
 "cells": [
  {
   "cell_type": "code",
   "execution_count": 227,
   "metadata": {
    "collapsed": true
   },
   "outputs": [],
   "source": [
    "import pandas as pd\n",
    "import os"
   ]
  },
  {
   "cell_type": "code",
   "execution_count": 228,
   "metadata": {
    "collapsed": true
   },
   "outputs": [],
   "source": [
    "import spotipy\n",
    "# headers = {\n",
    "#         'Authorization': 'Bearer ',\n",
    "#     }\n",
    "token = \"BQD7EdJwhjE_twrnFVMypoYg0ZdgzqxHWdtsxpnTgOSzOjygJdCpq9479E3jdhTgMtCFsK99MVfDBlGZp-COCWWBl-7TFhtg8D3qTpWHyijs6lETM-g6eg8rOPZTnWKd9VSeyFTCISUlAeXx2Xq2RfunidZPd5pBJTdsDDRP4VPN0dZHVWN1ghoK5zwYxN5ihV1WriSHr27pwTOWvZER7SuoLQ8EOhVDPwpp_HDT6_XGYUsMSwjOevMWYY1siFtDXgIqkqhGRMfoTzlbkjYJTGO8JwU\"\n",
    "spotify = spotipy.Spotify(auth=token)\n",
    "results = spotify.category_playlists(category_id='mood')"
   ]
  },
  {
   "cell_type": "code",
   "execution_count": 229,
   "metadata": {},
   "outputs": [
    {
     "data": {
      "text/plain": [
       "20"
      ]
     },
     "execution_count": 229,
     "metadata": {},
     "output_type": "execute_result"
    }
   ],
   "source": [
    "len(results['playlists']['items'])"
   ]
  },
  {
   "cell_type": "code",
   "execution_count": 230,
   "metadata": {
    "scrolled": true
   },
   "outputs": [
    {
     "name": "stdout",
     "output_type": "stream",
     "text": [
      "37i9dQZF1DWSqmBTGDYngZ Songs to Sing in the Shower\n",
      "37i9dQZF1DWU0ScTcjJBdj Relax & Unwind\n",
      "37i9dQZF1DX7KNKjOK0o75 Have a Great Day!\n",
      "37i9dQZF1DX7gIoKXt0gmx All The Feels\n",
      "37i9dQZF1DX3rxVfibe1L0 Mood Booster\n",
      "37i9dQZF1DWYBO1MoTDhZI Good Vibes\n",
      "37i9dQZF1DX6ziVCJnEm59 Your Favorite Coffeehouse\n",
      "37i9dQZF1DWWMOmoXKqHTD Songs to Sing in the Car\n",
      "37i9dQZF1DWSkMjlBZAZ07 Happy Folk\n",
      "37i9dQZF1DXdPec7aLTmlC Happy Hits!\n",
      "37i9dQZF1DX4fpCWaHOned Confidence Boost\n",
      "37i9dQZF1DX3YSRoSdA634 Life Sucks\n",
      "37i9dQZF1DWXmlLSKkfdAk Acoustic Covers\n",
      "37i9dQZF1DWSlw12ofHcMM Swagger\n",
      "37i9dQZF1DWWqNV5cS50j6 Anti Pop\n",
      "37i9dQZF1DX7K31D69s4M1 Piano in the Background\n",
      "37i9dQZF1DXca8AyWK6Y7g Young & Free\n",
      "37i9dQZF1DWSqBruwoIXkA Down In The Dumps\n",
      "37i9dQZF1DWSiZVO2J6WeI Dreamy Vibes\n",
      "37i9dQZF1DX9XIFQuFvzM4 Feelin' Good\n"
     ]
    }
   ],
   "source": [
    "for x in results['playlists']['items']:\n",
    "    print(x['id'],x['name'])"
   ]
  },
  {
   "cell_type": "code",
   "execution_count": 231,
   "metadata": {
    "collapsed": true
   },
   "outputs": [],
   "source": [
    "#len(results['playlists']['items'])"
   ]
  },
  {
   "cell_type": "code",
   "execution_count": 232,
   "metadata": {
    "collapsed": true
   },
   "outputs": [],
   "source": [
    "def get_playlist_tracks(username,playlist_id):\n",
    "    results = spotify.user_playlist_tracks(username,playlist_id)\n",
    "    tracks = results['items']\n",
    "\n",
    "    return tracks"
   ]
  },
  {
   "cell_type": "code",
   "execution_count": 235,
   "metadata": {},
   "outputs": [],
   "source": [
    "id_ =[]\n",
    "name=[]\n",
    "for x in results['playlists']['items'][:10]:\n",
    "    user = x['owner']['id']\n",
    "    playlist = x['id']\n",
    "   # print(user,playlist)\n",
    "    for y in get_playlist_tracks(user,playlist):\n",
    "        id_.append(y['track']['id'])\n",
    "        name.append(y['track']['name'])"
   ]
  },
  {
   "cell_type": "code",
   "execution_count": 236,
   "metadata": {},
   "outputs": [
    {
     "data": {
      "text/plain": [
       "761"
      ]
     },
     "execution_count": 236,
     "metadata": {},
     "output_type": "execute_result"
    }
   ],
   "source": [
    "len(id_)"
   ]
  },
  {
   "cell_type": "code",
   "execution_count": 239,
   "metadata": {},
   "outputs": [
    {
     "data": {
      "text/html": [
       "<div>\n",
       "<style>\n",
       "    .dataframe thead tr:only-child th {\n",
       "        text-align: right;\n",
       "    }\n",
       "\n",
       "    .dataframe thead th {\n",
       "        text-align: left;\n",
       "    }\n",
       "\n",
       "    .dataframe tbody tr th {\n",
       "        vertical-align: top;\n",
       "    }\n",
       "</style>\n",
       "<table border=\"1\" class=\"dataframe\">\n",
       "  <thead>\n",
       "    <tr style=\"text-align: right;\">\n",
       "      <th></th>\n",
       "      <th>id</th>\n",
       "      <th>song_name</th>\n",
       "    </tr>\n",
       "  </thead>\n",
       "  <tbody>\n",
       "    <tr>\n",
       "      <th>0</th>\n",
       "      <td>1FHNctV68GUNLgXclG2DtR</td>\n",
       "      <td>Dancing in the Moonlight</td>\n",
       "    </tr>\n",
       "    <tr>\n",
       "      <th>1</th>\n",
       "      <td>5nNmj1cLH3r4aA4XDJ2bgY</td>\n",
       "      <td>September</td>\n",
       "    </tr>\n",
       "    <tr>\n",
       "      <th>2</th>\n",
       "      <td>5XzmZjXhMjDHr7ZfJ6DELQ</td>\n",
       "      <td>FourFiveSeconds</td>\n",
       "    </tr>\n",
       "    <tr>\n",
       "      <th>3</th>\n",
       "      <td>2tUBqZG2AbRi7Q0BIrVrEj</td>\n",
       "      <td>I Wanna Dance with Somebody (Who Loves Me)</td>\n",
       "    </tr>\n",
       "    <tr>\n",
       "      <th>4</th>\n",
       "      <td>4o6BgsqLIBViaGVbx5rbRk</td>\n",
       "      <td>You Make My Dreams - Remastered</td>\n",
       "    </tr>\n",
       "  </tbody>\n",
       "</table>\n",
       "</div>"
      ],
      "text/plain": [
       "                       id                                   song_name\n",
       "0  1FHNctV68GUNLgXclG2DtR                    Dancing in the Moonlight\n",
       "1  5nNmj1cLH3r4aA4XDJ2bgY                                   September\n",
       "2  5XzmZjXhMjDHr7ZfJ6DELQ                             FourFiveSeconds\n",
       "3  2tUBqZG2AbRi7Q0BIrVrEj  I Wanna Dance with Somebody (Who Loves Me)\n",
       "4  4o6BgsqLIBViaGVbx5rbRk             You Make My Dreams - Remastered"
      ]
     },
     "execution_count": 239,
     "metadata": {},
     "output_type": "execute_result"
    }
   ],
   "source": [
    "df = pd.DataFrame(columns=['id', 'song_name'])\n",
    "df['id'] = id_\n",
    "df['song_name'] = name\n",
    "df.head()"
   ]
  },
  {
   "cell_type": "code",
   "execution_count": 19,
   "metadata": {
    "collapsed": true
   },
   "outputs": [],
   "source": [
    "spotify_dict = results['playlists']['items']"
   ]
  },
  {
   "cell_type": "code",
   "execution_count": 25,
   "metadata": {
    "collapsed": true
   },
   "outputs": [],
   "source": [
    "spotify_df = pd.DataFrame.from_dict(list(spotify))"
   ]
  },
  {
   "cell_type": "code",
   "execution_count": 27,
   "metadata": {},
   "outputs": [
    {
     "data": {
      "text/html": [
       "<div>\n",
       "<style>\n",
       "    .dataframe thead tr:only-child th {\n",
       "        text-align: right;\n",
       "    }\n",
       "\n",
       "    .dataframe thead th {\n",
       "        text-align: left;\n",
       "    }\n",
       "\n",
       "    .dataframe tbody tr th {\n",
       "        vertical-align: top;\n",
       "    }\n",
       "</style>\n",
       "<table border=\"1\" class=\"dataframe\">\n",
       "  <thead>\n",
       "    <tr style=\"text-align: right;\">\n",
       "      <th></th>\n",
       "      <th>id</th>\n",
       "      <th>name</th>\n",
       "    </tr>\n",
       "  </thead>\n",
       "  <tbody>\n",
       "    <tr>\n",
       "      <th>0</th>\n",
       "      <td>37i9dQZF1DWSqmBTGDYngZ</td>\n",
       "      <td>Songs to Sing in the Shower</td>\n",
       "    </tr>\n",
       "    <tr>\n",
       "      <th>1</th>\n",
       "      <td>37i9dQZF1DWU0ScTcjJBdj</td>\n",
       "      <td>Relax &amp; Unwind</td>\n",
       "    </tr>\n",
       "    <tr>\n",
       "      <th>2</th>\n",
       "      <td>37i9dQZF1DX7KNKjOK0o75</td>\n",
       "      <td>Have a Great Day!</td>\n",
       "    </tr>\n",
       "    <tr>\n",
       "      <th>3</th>\n",
       "      <td>37i9dQZF1DX7gIoKXt0gmx</td>\n",
       "      <td>All The Feels</td>\n",
       "    </tr>\n",
       "    <tr>\n",
       "      <th>4</th>\n",
       "      <td>37i9dQZF1DX6ziVCJnEm59</td>\n",
       "      <td>Your Favorite Coffeehouse</td>\n",
       "    </tr>\n",
       "  </tbody>\n",
       "</table>\n",
       "</div>"
      ],
      "text/plain": [
       "                       id                         name\n",
       "0  37i9dQZF1DWSqmBTGDYngZ  Songs to Sing in the Shower\n",
       "1  37i9dQZF1DWU0ScTcjJBdj               Relax & Unwind\n",
       "2  37i9dQZF1DX7KNKjOK0o75            Have a Great Day!\n",
       "3  37i9dQZF1DX7gIoKXt0gmx                All The Feels\n",
       "4  37i9dQZF1DX6ziVCJnEm59    Your Favorite Coffeehouse"
      ]
     },
     "execution_count": 27,
     "metadata": {},
     "output_type": "execute_result"
    }
   ],
   "source": [
    "spotify = spotify_df[['id','name']]\n",
    "spotify.head()"
   ]
  },
  {
   "cell_type": "code",
   "execution_count": null,
   "metadata": {
    "collapsed": true
   },
   "outputs": [],
   "source": []
  }
 ],
 "metadata": {
  "kernelspec": {
   "display_name": "Python 3",
   "language": "python",
   "name": "python3"
  },
  "language_info": {
   "codemirror_mode": {
    "name": "ipython",
    "version": 3
   },
   "file_extension": ".py",
   "mimetype": "text/x-python",
   "name": "python",
   "nbconvert_exporter": "python",
   "pygments_lexer": "ipython3",
   "version": "3.6.3"
  }
 },
 "nbformat": 4,
 "nbformat_minor": 2
}
